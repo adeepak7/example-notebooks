{
 "cells": [
  {
   "cell_type": "markdown",
   "metadata": {},
   "source": [
    "# Classification and Prediction in GenePattern Notebook\n",
    "\n",
    "This notebook will show you how to use k-Nearest Neighbors (kNN) to build a predictor, use it to classify leukemia subtypes, and assess its accuracy in cross-validation."
   ]
  },
  {
   "cell_type": "markdown",
   "metadata": {},
   "source": [
    "### K-nearest-neighbors (KNN)\n",
    "KNN classifies an unknown sample by assigning it the phenotype label most frequently represented among the k nearest known samples (Golub and Slonim et al., 1999). \n",
    "\n",
    "Additionally, you can select a weighting factor for the 'votes' of the nearest neighbors. For example, one might weight the votes by the reciprocal of the distance between neighbors to give closer neighors a greater vote."
   ]
  },
  {
   "cell_type": "markdown",
   "metadata": {},
   "source": [
    "## 1. Log in to GenePattern\n",
    "<div class=\"alert alert-info\">\n",
    "<ul>\n",
    "<li>Select Broad Institute as the server.\n",
    "<li>Enter your username and password.\n",
    "<li>Click Run.\n",
    "<li>When you are logged in, you can click the - button in the upper right hand corner to collapse the cell.\n",
    "</ul>\n",
    "</div>"
   ]
  },
  {
   "cell_type": "code",
   "execution_count": 1,
   "metadata": {
    "genepattern": {
     "server": "https://genepattern.broadinstitute.org/gp",
     "type": "auth"
    }
   },
   "outputs": [
    {
     "name": "stderr",
     "output_type": "stream",
     "text": [
      "Traceback (most recent call last):\n",
      "  File \"/System/Library/Frameworks/Python.framework/Versions/2.7/lib/python2.7/logging/__init__.py\", line 870, in emit\n",
      "    stream.write(ufs % msg)\n",
      "IOError: [Errno 32] Broken pipe\n",
      "Logged from file widget.py, line 463\n",
      "The installed widget Javascript is the wrong version.\n"
     ]
    }
   ],
   "source": [
    "# Requires GenePattern Notebook: pip install genepattern-notebook\n",
    "import gp\n",
    "import genepattern\n",
    "\n",
    "# Username and password removed for security reasons.\n",
    "genepattern.GPAuthWidget(genepattern.register_session(\"https://genepattern.broadinstitute.org/gp\", \"\", \"\"))"
   ]
  },
  {
   "cell_type": "markdown",
   "metadata": {},
   "source": [
    "## 2. Preprocess gene expression data\n",
    "- The PreprocessDataset module allows you to remove uninformative genes. These are genes whose values do not vary more than a certain amount between the two classes being compared.\n",
    "\n",
    "<div class=\"alert alert-info\">\n",
    "- Click Run in the GenePattern cell below to launch the PreprocessDataset module.\n",
    "- When the job is complete, the status in the upper right corner of the cell will display \"Complete\"."
   ]
  },
  {
   "cell_type": "code",
   "execution_count": 2,
   "metadata": {
    "genepattern": {
     "type": "task"
    }
   },
   "outputs": [
    {
     "name": "stderr",
     "output_type": "stream",
     "text": [
      "Traceback (most recent call last):\n",
      "  File \"/System/Library/Frameworks/Python.framework/Versions/2.7/lib/python2.7/logging/__init__.py\", line 870, in emit\n",
      "    stream.write(ufs % msg)\n",
      "IOError: [Errno 32] Broken pipe\n",
      "Logged from file widget.py, line 463\n",
      "The installed widget Javascript is the wrong version.\n"
     ]
    }
   ],
   "source": [
    "preprocessdataset_task = gp.GPTask(genepattern.get_session(0), 'urn:lsid:broad.mit.edu:cancer.software.genepattern.module.analysis:00020')\n",
    "preprocessdataset_job_spec = preprocessdataset_task.make_job_spec()\n",
    "preprocessdataset_job_spec.set_parameter(\"input.filename\", \"https://software.broadinstitute.org/cancer/software/genepattern/data/all_aml/all_aml_train.gct\")\n",
    "preprocessdataset_job_spec.set_parameter(\"threshold.and.filter\", \"1\")\n",
    "preprocessdataset_job_spec.set_parameter(\"floor\", \"20\")\n",
    "preprocessdataset_job_spec.set_parameter(\"ceiling\", \"20000\")\n",
    "preprocessdataset_job_spec.set_parameter(\"min.fold.change\", \"3\")\n",
    "preprocessdataset_job_spec.set_parameter(\"min.delta\", \"100\")\n",
    "preprocessdataset_job_spec.set_parameter(\"num.outliers.to.exclude\", \"0\")\n",
    "preprocessdataset_job_spec.set_parameter(\"row.normalization\", \"0\")\n",
    "preprocessdataset_job_spec.set_parameter(\"row.sampling.rate\", \"1\")\n",
    "preprocessdataset_job_spec.set_parameter(\"threshold.for.removing.rows\", \"\")\n",
    "preprocessdataset_job_spec.set_parameter(\"number.of.columns.above.threshold\", \"\")\n",
    "preprocessdataset_job_spec.set_parameter(\"log2.transform\", \"0\")\n",
    "preprocessdataset_job_spec.set_parameter(\"output.file.format\", \"3\")\n",
    "preprocessdataset_job_spec.set_parameter(\"output.file\", \"<input.filename_basename>.preprocessed\")\n",
    "genepattern.GPTaskWidget(preprocessdataset_task)"
   ]
  },
  {
   "cell_type": "markdown",
   "metadata": {},
   "source": [
    "## 3. Run k-Nearest Neighbors Cross Validation\n",
    "In the result cell for the PreprocessDataset job, you will see 2 files. \n",
    "<div class=\"alert alert-info\">Click the \"i\" icon next to the all_aml_preprocesed.gct file.</div>\n",
    "You will see a dialog box with several options.\n",
    "\n",
    "<div class=\"alert alert-info\">\n",
    "- Select \"Send to Existing GenePattern Cell\"\n",
    "- Choose \"KNNXvalidation\"\n",
    "- Click Run."
   ]
  },
  {
   "cell_type": "code",
   "execution_count": 3,
   "metadata": {
    "genepattern": {
     "type": "task"
    }
   },
   "outputs": [
    {
     "name": "stderr",
     "output_type": "stream",
     "text": [
      "Traceback (most recent call last):\n",
      "  File \"/System/Library/Frameworks/Python.framework/Versions/2.7/lib/python2.7/logging/__init__.py\", line 870, in emit\n",
      "    stream.write(ufs % msg)\n",
      "IOError: [Errno 32] Broken pipe\n",
      "Logged from file widget.py, line 463\n",
      "The installed widget Javascript is the wrong version.\n"
     ]
    }
   ],
   "source": [
    "knnxvalidation_task = gp.GPTask(genepattern.get_session(0), 'urn:lsid:broad.mit.edu:cancer.software.genepattern.module.analysis:00013')\n",
    "knnxvalidation_job_spec = knnxvalidation_task.make_job_spec()\n",
    "knnxvalidation_job_spec.set_parameter(\"data.filename\", \"\")\n",
    "knnxvalidation_job_spec.set_parameter(\"class.filename\", \"https://software.broadinstitute.org/cancer/software/genepattern/data/all_aml/all_aml_train.cls\")\n",
    "knnxvalidation_job_spec.set_parameter(\"num.features\", \"10\")\n",
    "knnxvalidation_job_spec.set_parameter(\"feature.selection.statistic\", \"0\")\n",
    "knnxvalidation_job_spec.set_parameter(\"min.std\", \"\")\n",
    "knnxvalidation_job_spec.set_parameter(\"num.neighbors\", \"3\")\n",
    "knnxvalidation_job_spec.set_parameter(\"weighting.type\", \"1\")\n",
    "knnxvalidation_job_spec.set_parameter(\"distance.measure\", \"1\")\n",
    "knnxvalidation_job_spec.set_parameter(\"pred.results.file\", \"<data.filename_basename>.pred.odf\")\n",
    "knnxvalidation_job_spec.set_parameter(\"feature.summary.file\", \"<data.filename_basename>.feat.odf\")\n",
    "genepattern.GPTaskWidget(knnxvalidation_task)"
   ]
  },
  {
   "cell_type": "markdown",
   "metadata": {},
   "source": [
    "## 4. View prediction results\n",
    "\n",
    "### a. Read the results into a dataframe"
   ]
  },
  {
   "cell_type": "markdown",
   "metadata": {},
   "source": [
    "<div class=\"alert alert-info\">\n",
    "- Select the cell containing the job result by clicking anywhere in it.\n",
    "- Click on the i icon next to the `all_aml_train.preprocessed.pred.odf` file\n",
    "- Select \"Send to DataFrame\"\n",
    "- You will see a new cell that contains 3 lines of code starting with `from gp.data import ODF`\n",
    "- Execute this cell\n",
    "- You will see the prediction results as a table."
   ]
  },
  {
   "cell_type": "markdown",
   "metadata": {},
   "source": [
    "### b. View prediction results as a bar chart\n",
    "\n",
    "- Execute the following cell.\n",
    "\n",
    "You will see a bar graph of class predictions.\n",
    "- Direction of bars indicate which class was predicted\n",
    "- Length of bars indicates confidence level\n",
    "- Blue = true prediction\n",
    "- Red = false prediction"
   ]
  },
  {
   "cell_type": "code",
   "execution_count": null,
   "metadata": {
    "collapsed": true
   },
   "outputs": [],
   "source": [
    "%matplotlib inline\n",
    "\n",
    "import matplotlib.pyplot as plt\n",
    "import pandas as pd\n",
    "import numpy as np\n",
    "\n",
    "# _ is a reference to the result of the last executed cell\n",
    "df = _\n",
    "\n",
    "result_bars = list()\n",
    "bar_colors = list()\n",
    "tick_labels = list()\n",
    "data_rows = df.row_count()\n",
    "\n",
    "class_labels = list((set(df.dataframe[\"True Class\"])))\n",
    "\n",
    "confidence = pd.to_numeric(df.dataframe[\"Confidence\"])\n",
    "\n",
    "for i in range(0, data_rows):\n",
    "    tick_labels.append(df.dataframe[\"Samples\"][i])\n",
    "    if df.dataframe[\"Predicted Class\"][i] == class_labels[1]:\n",
    "        result_bars.append(confidence[i])\n",
    "    else:\n",
    "        result_bars.append(-confidence[i])\n",
    "        \n",
    "    if df.dataframe[\"Correct?\"][i]:\n",
    "        bar_colors.append('b')\n",
    "    else:\n",
    "        bar_colors.append('r')\n",
    "\n",
    "ind = np.arange(data_rows)  # the x locations for the groups\n",
    "width = 0.8\n",
    "if hasattr(plt, 'style'):\n",
    "    plt.style.use('ggplot')\n",
    "fig = plt.figure(figsize=(16,12))\n",
    "ax = fig.add_subplot(111)\n",
    "\n",
    "# Set figure and axis titles\n",
    "plt.title(class_labels[0]+\" versus \"+class_labels[1]+\" Prediction Results\")\n",
    "plt.xlabel(\"Sample Name\")\n",
    "plt.ylabel(\"Confidence value\")\n",
    "plt.axis([0,data_rows,-1.25,1.25])\n",
    "plt.text(0.2, -1.15, \"Predicted \" + class_labels[0])\n",
    "plt.text(data_rows, 1.05, \"Predicted \" + class_labels[1], horizontalalignment='right')\n",
    "plt.grid(True)\n",
    "\n",
    "# Plot bar chart of predicted classes\n",
    "rects1 = ax.bar(ind, result_bars, color=bar_colors, width=width)\n",
    "tick_locs, tick_xlabels = plt.xticks()\n",
    "plt.setp(tick_xlabels, rotation=50)\n",
    "plt.show()"
   ]
  },
  {
   "cell_type": "markdown",
   "metadata": {},
   "source": [
    "## References\n",
    "\n",
    "Breiman, L., Friedman, J. H., Olshen, R. A., & Stone, C. J. 1984. [Classification and regression trees](https://www.amazon.com/Classification-Regression-Wadsworth-Statistics-Probability/dp/0412048418?ie=UTF8&*Version*=1&*entries*=0). Wadsworth & Brooks/Cole Advanced Books & Software, Monterey, CA.\n",
    "\n",
    "Golub, T.R., Slonim, D.K., Tamayo, P., Huard, C., Gaasenbeek, M., Mesirov, J.P., Coller, H., Loh, M., Downing, J.R., Caligiuri, M.A., Bloomfield, C.D., and Lander, E.S. 1999. Molecular Classification of Cancer: Class Discovery and Class Prediction by Gene Expression. [Science 286:531-537](http://science.sciencemag.org/content/286/5439/531.long).\n",
    "\n",
    "Lu, J., Getz, G., Miska, E.A., Alvarez-Saavedra, E., Lamb, J., Peck, D., Sweet-Cordero, A., Ebert, B.L., Mak, R.H., Ferrando, A.A, Downing, J.R., Jacks, T., Horvitz, H.R., Golub, T.R. 2005. MicroRNA expression profiles classify human cancers. [Nature 435:834-838](http://www.nature.com/nature/journal/v435/n7043/full/nature03702.html).\n",
    "\n",
    "Rifkin, R., Mukherjee, S., Tamayo, P., Ramaswamy, S., Yeang, C-H, Angelo, M., Reich, M., Poggio, T., Lander, E.S., Golub, T.R., Mesirov, J.P. 2003. An Analytical Method for Multiclass Molecular Cancer Classification. [SIAM Review 45(4):706-723](http://epubs.siam.org/doi/abs/10.1137/S0036144502411986).\n",
    "\n",
    "Slonim, D.K., Tamayo, P., Mesirov, J.P., Golub, T.R., Lander, E.S. 2000. Class prediction and discovery using gene expression data. In [Proceedings of the Fourth Annual International Conference on Computational Molecular Biology (RECOMB)](http://dl.acm.org/citation.cfm?id=332564). ACM Press, New York. pp. 263-272."
   ]
  }
 ],
 "metadata": {
  "anaconda-cloud": {},
  "kernelspec": {
   "display_name": "Python 2",
   "language": "python",
   "name": "python2"
  },
  "language_info": {
   "codemirror_mode": {
    "name": "ipython",
    "version": 2
   },
   "file_extension": ".py",
   "mimetype": "text/x-python",
   "name": "python",
   "nbconvert_exporter": "python",
   "pygments_lexer": "ipython2",
   "version": "2.7.10"
  },
  "widgets": {
   "state": {
    "47faafe842c04bbc97c706c9a2a34b7b": {
     "views": [
      {
       "cell_index": 3
      }
     ]
    },
    "822f571675ea46538b5797ab47207aa0": {
     "views": [
      {
       "cell_index": 5
      }
     ]
    },
    "e9ed502382ec48129e2ba509bcf15100": {
     "views": [
      {
       "cell_index": 7
      }
     ]
    }
   },
   "version": "1.2.0"
  }
 },
 "nbformat": 4,
 "nbformat_minor": 1
}
