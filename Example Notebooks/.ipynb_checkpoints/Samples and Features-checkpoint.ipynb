{
 "cells": [
  {
   "cell_type": "markdown",
   "metadata": {},
   "source": [
    "# Working with Samples and Features\n",
    "\n",
    "From a combined dataset of cancer and normal samples, extract the normal samples. Within the normal samples, find the genes coexpressed with LRPPRC (Affymetrix probe M92439_at), a gene with mitochondrial function.\n",
    "\n",
    "## Before you begin\n",
    "\n",
    "* Sign in to GenePattern by entering your username and password into the form below. If you are seeing a block of code instead of the login form, go to the menu above and select Cell > Run All.\n",
    "* The data will will use in this exercise is from the Global Cancer Map, published along with the paper *[Multi-Class Cancer Diagnosis Using Tumor Gene Expression Signatures](http://www.broadinstitute.org/cgi-bin/cancer/publications/pub_paper.cgi?mode=view&paper_id=61)*.\n",
    "* Links to the data files used in this exercise are below:\n",
    "    * RES file: [GCM_Total.res](https://software.broadinstitute.org/cancer/software/genepattern/data/gcm/GCM_Total.res)\n",
    "    * CLS file: [GCM_Total.cls](https://software.broadinstitute.org/cancer/software/genepattern/data/gcm/GCM_Total.cls)\n",
    "    * CHIP file: [HU6800.chip](https://software.broadinstitute.org/cancer/software/genepattern/data/gcm/HU6800.chip)"
   ]
  },
  {
   "cell_type": "code",
   "execution_count": 1,
   "metadata": {
    "collapsed": false,
    "genepattern": {
     "server": "https://genepattern.broadinstitute.org/gp",
     "type": "auth"
    }
   },
   "outputs": [
    {
     "name": "stderr",
     "output_type": "stream",
     "text": [
      "Widget Javascript not detected.  It may not be installed properly. Did you enable the widgetsnbextension? If not, then run \"jupyter nbextension enable --py --sys-prefix widgetsnbextension\"\n"
     ]
    }
   ],
   "source": [
    "# Requires GenePattern Notebook: pip install genepattern-notebook\n",
    "import gp\n",
    "import genepattern\n",
    "\n",
    "# Username and password removed for security reasons.\n",
    "genepattern.GPAuthWidget(genepattern.register_session(\"https://genepattern.broadinstitute.org/gp\", \"\", \"\"))"
   ]
  },
  {
   "cell_type": "markdown",
   "metadata": {},
   "source": [
    "## Step 1: Selecting a Subset of an Expression File\n",
    "\n",
    "1. Insert an analysis cell for the *SelectFeaturesColumns* module and move it below this set of instructions.\n",
    "2. Set the following parameters:\n",
    "    1. Drag-and-drop the *[GCM_Total.res](https://software.broadinstitute.org/cancer/software/genepattern/data/gcm/GCM_Total.res)* file linked above into the *input.filename* parameter.\n",
    "    2. Set the columns parameter to *190-279*.\n",
    "    3. Set the *output.file* paremeter to *GCM_Normals.res*.\n",
    "3. Click the *Run* button."
   ]
  },
  {
   "cell_type": "markdown",
   "metadata": {},
   "source": [
    "## Step 2: Finding Coexpressed Genes\n",
    "\n",
    "1. Insert an analysis cell for the *GeneNeighbors* module and move it below this set of instructions.\n",
    "2. Set the following parameters:\n",
    "    1. Send the *GCM_Normals.res* file produced by the *SelectFeaturesColumns* job above to the *data.filename* parameter.\n",
    "    2. Set the *gene.accession* parameter to *M92439_at*.\n",
    "3. Click the *Run* button."
   ]
  },
  {
   "cell_type": "markdown",
   "metadata": {},
   "source": [
    "## Step 3: Viewing Coexpressed Genes\n",
    "\n",
    "1. Look for the *GCM_Normals.markerdata.gct* file produced by the GeneNeighbors job above. \n",
    "2. Click it and look for *Send to New GenePattern Cell* in the menu, then select *HeatMapViewer*.\n",
    "3. Move the new *HeatMapViewer* cell below these instructions.\n",
    "4. Click the *Run* button."
   ]
  },
  {
   "cell_type": "markdown",
   "metadata": {},
   "source": [
    "## Step 4: Collapse the Expression File\n",
    "\n",
    "1. Insert an analysis cell for the *CollapseDataset* module and move it below this set of instructions.\n",
    "2. Set the following parameters:\n",
    "    1. Send the *GCM_Normals.markerdata.gct* file produced by the *GeneNeighbors* job above to the *dataset.file* parameter.\n",
    "    2. Drag-and-drop *[HU6800.chip](https://software.broadinstitute.org/cancer/software/genepattern/data/gcm/HU6800.chip)* to the *chip.platform* parameter.\n",
    "3. Click the *Run* button."
   ]
  },
  {
   "cell_type": "markdown",
   "metadata": {},
   "source": [
    "## Step 5: Converting an Affy Expression File to a List of Genes\n",
    "\n",
    "1. Look for the *GCM_Normals.markerdata.collapsed.gct* file produced by the *CollapseDataset* job above. \n",
    "2. Click it and look for *Send to New GenePattern Cell* in the menu, then select *ExtractRowNames*.\n",
    "3. Move the new *ExtractRowNames* cell below these instructions.\n",
    "4. Click the *Run* button.\n",
    "5. View the resulting gene list by clicking *GCM_Normals.markerdata.collapsed.row.names.txt* and selecting *Open in New Tab*.\n"
   ]
  },
  {
   "cell_type": "markdown",
   "metadata": {},
   "source": [
    "## Find pathways associated with gene list\n",
    "The following code will search the [mygene.info](http://mygene.info) gene database service and query each result gene to determine which Reactome pathways are associated with it.\n",
    "\n",
    "<div class=\"alert alert-info\">\n",
    "<p>Executing the cells below will read in a list of genes, similar to the list created earlier in the main Samples and Features exercise. Each gene in this list will then be sent to [mygene.info](http://mygene.info), a gene database service.</p>\n",
    "</div>\n",
    "\n",
    "<div class=\"alert alert-info\">\n",
    "- Click on the i icon next to the `GCM_Normals.markerdata.collapsed.row.names.txt` file in the last step\n",
    "- Select \"Send to Code\"\n",
    "- Select and copy the reference to the output file, for example `job1306740.get_output_files()[1]` (do NOT include the \"this file = \" part)\n",
    "- Paste the result into the code below to replace **INSERT PASTED CODE HERE**\n",
    "- The resulting line should look like `gene_list_filename = job1306740.get_output_files()[1]`\n",
    "- Execute the cell below"
   ]
  },
  {
   "cell_type": "code",
   "execution_count": null,
   "metadata": {
    "collapsed": true
   },
   "outputs": [],
   "source": [
    "gene_list_filename = **INSERT PASTED CODE HERE**\n",
    "gene_list_file = gene_list_filename.open()\n",
    "gene_list = gene_list_file.readlines()"
   ]
  },
  {
   "cell_type": "code",
   "execution_count": null,
   "metadata": {
    "collapsed": true
   },
   "outputs": [],
   "source": [
    "import requests\n",
    "import json\n",
    "\n",
    "for gene in gene_list:\n",
    "    if \" \" in gene:\n",
    "        gene=gene[0:gene.find(\" \")]\n",
    "    gene_results = requests.get(\"https://mygene.info/v2/query?q=\"+gene+\"&fields=pathway.reactome\").content\n",
    "    gene_results_json = json.loads(gene_results)\n",
    "    print(gene)\n",
    "    pathways = list()\n",
    "    for h in range(len(gene_results_json[\"hits\"])):\n",
    "        for k in gene_results_json[\"hits\"][h].keys():\n",
    "            if u'pathway' == k:\n",
    "                for i in range(len(gene_results_json[\"hits\"][h][\"pathway\"][\"reactome\"])):\n",
    "                    pathways.append(gene_results_json[\"hits\"][h][\"pathway\"][\"reactome\"][i][\"name\"])\n",
    "    if (len(pathways) == 0):\n",
    "        pathways.append(\"No pathways found\")\n",
    "    else:\n",
    "        for p in sorted(set(pathways)):\n",
    "            print \"\\t\" + p"
   ]
  }
 ],
 "metadata": {
  "anaconda-cloud": {},
  "kernelspec": {
   "display_name": "Python 2",
   "language": "python",
   "name": "python2"
  },
  "language_info": {
   "codemirror_mode": {
    "name": "ipython",
    "version": 2
   },
   "file_extension": ".py",
   "mimetype": "text/x-python",
   "name": "python",
   "nbconvert_exporter": "python",
   "pygments_lexer": "ipython2",
   "version": "2.7.12"
  }
 },
 "nbformat": 4,
 "nbformat_minor": 1
}
