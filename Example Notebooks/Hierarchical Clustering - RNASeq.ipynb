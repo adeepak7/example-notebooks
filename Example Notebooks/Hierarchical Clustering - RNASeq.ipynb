{
 "cells": [
  {
   "cell_type": "markdown",
   "metadata": {},
   "source": [
    "# Hierarchical Clustering in GenePattern Notebook\n",
    "\n",
    "Cluster genes and/or samples based on how close they are to one another. The result is a tree structure, referred to as dendrogram.\n",
    "\n",
    "## Before you begin\n",
    "\n",
    "* Sign in to GenePattern by entering your username and password into the form below.\n",
    "* Gene expression data must be in a [GCT or RES file](https://genepattern.broadinstitute.org/gp/pages/protocols/GctResFiles.html).\n",
    "    * Example file: [all_aml_test.gct](https://software.broadinstitute.org/cancer/software/genepattern/data/all_aml/all_aml_test.gct).\n",
    "* Learn more by reading about [file formats](http://www.broadinstitute.org/cancer/software/genepattern/file-formats-guide#GCT).\n"
   ]
  },
  {
   "cell_type": "code",
   "execution_count": 1,
   "metadata": {
    "collapsed": false
   },
   "outputs": [
    {
     "name": "stderr",
     "output_type": "stream",
     "text": [
      "Widget Javascript not detected.  It may not be installed properly. Did you enable the widgetsnbextension? If not, then run \"jupyter nbextension enable --py --sys-prefix widgetsnbextension\"\n"
     ]
    }
   ],
   "source": [
    "# !AUTOEXEC\n",
    "\n",
    "# Don't have the GenePattern Notebook? It can be installed from PIP: \n",
    "# pip install genepattern-notebook \n",
    "import gp\n",
    "\n",
    "# The following widgets are components of the GenePattern Notebook extension.\n",
    "try:\n",
    "    from genepattern import GPAuthWidget, GPJobWidget, GPTaskWidget\n",
    "except:\n",
    "    def GPAuthWidget(input):\n",
    "        print(\"GP Widget Library not installed. Please visit http://genepattern.org\")\n",
    "    def GPJobWidget(input):\n",
    "        print(\"GP Widget Library not installed. Please visit http://genepattern.org\")\n",
    "    def GPTaskWidget(input):\n",
    "        print(\"GP Widget Library not installed. Please visit http://genepattern.org\")\n",
    "\n",
    "# The gpserver object holds your authentication credentials and is used to\n",
    "# make calls to the GenePattern server through the GenePattern Python library.\n",
    "# Your actual username and password have been removed from the code shown\n",
    "# below for security reasons.\n",
    "gpserver = gp.GPServer(\"https://genepattern.broadinstitute.org/gp\", \"\", \"\")\n",
    "\n",
    "# Return the authentication widget to view it\n",
    "GPAuthWidget(gpserver)"
   ]
  },
  {
   "cell_type": "markdown",
   "metadata": {},
   "source": [
    "## Step 1: PreprocessReadCounts\n",
    "\n",
    "Preprocess RNA-Seq count data in a GCT file so that it is suitable for use in GenePattern analyses. \n",
    "\n",
    "### Introduction\n",
    "\n",
    "* This module is used to preprocess RNA-Seq data into a form suitable for use downstream in other GenePattern analyses such as GSEA, ComparativeMarkerSelection, HierarchicalClustering, as well as visualizers.  Many of these tools were originally designed to handle microarray data - particularly from Affymetrix arrays - and so we must be mindful of that origin when preprocessing data for use with them.\n",
    "The module does this by using a mean-variance modeling technique to transform the dataset to fit an approximation of a normal distribution, with the goal of thus being able to apply classic normal-based microarray-oriented statistical methods and workflows.\n",
    "* Learn more by reading about the [PreprocessReadCounts](https://genepattern.broadinstitute.org/gp/getTaskDoc.jsp?name=PreprocessDatasethttp://software.broadinstitute.org/cancer/software/genepattern/modules/docs/PreprocessReadCounts/1) module."
   ]
  },
  {
   "cell_type": "markdown",
   "metadata": {},
   "source": [
    "<div class=\"alert alert-info\">\n",
    "<h3>Instructions</h3>\n",
    "\n",
    "<p>For the <strong><em>input.file</em></strong> parameter, click &quot;Add Path or URL...&quot; then copy and paste this URL into the <em>&quot;Enter Path or URL&quot; </em>text box, and click <strong><em>Select</em></strong>:&nbsp;</p>\n",
    "\n",
    "<p><a href=\"ftp://gpftp.broadinstitute.org/example_data/modules/PreprocessReadCounts/input/MergedHTSeqCounts_GSE52778.gct\" target=\"_blank\">ftp://gpftp.broadinstitute.org/example_data/modules/PreprocessReadCounts/input/MergedHTSeqCounts_GSE52778.gct</a></p>\n",
    "\n",
    "<p>&nbsp;</p>\n",
    "\n",
    "<p>For the <strong><em>cls.file</em></strong> parameter, click &quot;Add Path or URL...&quot; then copy and paste this URL into the <em>&quot;Enter Path or URL&quot; </em>text box, and click <strong><em>Select</em></strong>:</p>\n",
    "\n",
    "<p><a href=\"ftp://gpftp.broadinstitute.org/example_data/modules/PreprocessReadCounts/input/MergedHTSeqCounts_GSE52778.cls\" target=\"_blank\">ftp://gpftp.broadinstitute.org/example_data/modules/PreprocessReadCounts/input/MergedHTSeqCounts_GSE52778.cls</a></p>\n",
    "\n",
    "<p>&nbsp;</p>\n",
    "\n",
    "<p>Set the <strong><em>expression.value.filter.threshold</em></strong> parameter to 4.\n",
    "(so as to reduce the number of rows, and thus the time for computation)</p>\n",
    "\n",
    "<p>&nbsp;</p>\n",
    "\n",
    "<p>Click the button <strong><em>Run</em></strong> on the analysis below.</p>\n",
    "</div>\n"
   ]
  },
  {
   "cell_type": "code",
   "execution_count": 2,
   "metadata": {
    "collapsed": false
   },
   "outputs": [
    {
     "name": "stderr",
     "output_type": "stream",
     "text": [
      "Widget Javascript not detected.  It may not be installed properly. Did you enable the widgetsnbextension? If not, then run \"jupyter nbextension enable --py --sys-prefix widgetsnbextension\"\n"
     ]
    }
   ],
   "source": [
    "# !AUTOEXEC\n",
    "\n",
    "preprocessreadcounts_task = gp.GPTask(gpserver, 'urn:lsid:broad.mit.edu:cancer.software.genepattern.module.analysis:00355')\n",
    "preprocessreadcounts_job_spec = preprocessreadcounts_task.make_job_spec()\n",
    "preprocessreadcounts_job_spec.set_parameter(\"input.file\", \"\")\n",
    "preprocessreadcounts_job_spec.set_parameter(\"cls.file\", \"\")\n",
    "preprocessreadcounts_job_spec.set_parameter(\"output.file\", \"<input.file_basename>.preprocessed.gct\")\n",
    "preprocessreadcounts_job_spec.set_parameter(\"expression.value.filter.threshold\", \"1\")\n",
    "GPTaskWidget(preprocessreadcounts_task)"
   ]
  },
  {
   "cell_type": "markdown",
   "metadata": {},
   "source": [
    "## Step 2: HierarchicalClustering\n",
    "\n",
    "Run hierarchical clustering on genes and/or samples to create dendrograms for the clustered genes (*.gtr) and/or clustered samples (*.atr), as well as a file (*.cdt) that contains the original gene expression data ordered to reflect the clustering.\n",
    "\n",
    "### Considerations\n",
    "* Best practice is to normalize (row/column normalize parameters) and center (row/column center parameters) the data being clustered. \n",
    "* The CDT output file must be converted to a GCT file before it can be used as an input file for another GenePattern module (other than HierachicalClusteringViewer). For instructions on converting a CDT file to a GCT file, see [Creating Input Files](http://www.broadinstitute.org/cancer/software/genepattern/file-formats-guide#creating-input-files).\n",
    "* Learn more by reading about the [HierarchicalClustering](https://genepattern.broadinstitute.org/gp/getTaskDoc.jsp?name=HierarchicalClustering) module."
   ]
  },
  {
   "cell_type": "markdown",
   "metadata": {},
   "source": [
    "<div class=\"alert alert-info\">\n",
    "<h3 style=\"position: relative; top: -10px\">Instructions</h3>\n",
    "After the PreprocessReadCounts job above finishes running, send the GCT result of that job to HierarchicalClustering below. To do this either drag-and-drop the link for the file above to the *input.filename* input below, or click the link for the file above and select *Send to an Existing GenePattern Cell > HierarchicalClustering* in the menu that appears.\n",
    "\n",
    "Once this is done, click *Run* for the analysis below.\n",
    "</div>"
   ]
  },
  {
   "cell_type": "code",
   "execution_count": 3,
   "metadata": {
    "collapsed": false
   },
   "outputs": [
    {
     "name": "stderr",
     "output_type": "stream",
     "text": [
      "Widget Javascript not detected.  It may not be installed properly. Did you enable the widgetsnbextension? If not, then run \"jupyter nbextension enable --py --sys-prefix widgetsnbextension\"\n"
     ]
    }
   ],
   "source": [
    "# !AUTOEXEC\n",
    "\n",
    "hierarchicalclustering_task = gp.GPTask(gpserver, 'urn:lsid:broad.mit.edu:cancer.software.genepattern.module.analysis:00009')\n",
    "hierarchicalclustering_job_spec = hierarchicalclustering_task.make_job_spec()\n",
    "hierarchicalclustering_job_spec.set_parameter(\"input.filename\", \"\")\n",
    "hierarchicalclustering_job_spec.set_parameter(\"column.distance.measure\", \"2\")\n",
    "hierarchicalclustering_job_spec.set_parameter(\"row.distance.measure\", \"2\")\n",
    "hierarchicalclustering_job_spec.set_parameter(\"clustering.method\", \"a\")\n",
    "hierarchicalclustering_job_spec.set_parameter(\"log.transform\", \"\")\n",
    "hierarchicalclustering_job_spec.set_parameter(\"row.center\", \"mean.row\")\n",
    "hierarchicalclustering_job_spec.set_parameter(\"row.normalize\", \"\")\n",
    "hierarchicalclustering_job_spec.set_parameter(\"column.center\", \"mean.column\")\n",
    "hierarchicalclustering_job_spec.set_parameter(\"column.normalize\", \"\")\n",
    "hierarchicalclustering_job_spec.set_parameter(\"output.base.name\", \"<input.filename_basename>\")\n",
    "GPTaskWidget(hierarchicalclustering_task)"
   ]
  },
  {
   "cell_type": "markdown",
   "metadata": {},
   "source": [
    "## Step 3: HierarchicalClusteringViewer\n",
    "\n",
    "Display a heat map of the clustered gene expression data, with dendrograms showing how the genes and/or samples were clustered.\n",
    "\n",
    "### Considerations\n",
    "\n",
    "* Select File > Save Image to save the heat map and dendrograms to an image file. Supported formats include bmp, eps, jpeg, png, and tiff. \n",
    "* Learn more by reading about the [HierarchicalClusteringViewer](https://genepattern.broadinstitute.org/gp/getTaskDoc.jsp?name=HierarchicalClusteringViewer) module."
   ]
  },
  {
   "cell_type": "markdown",
   "metadata": {},
   "source": [
    "<div class=\"alert alert-info\">\n",
    "<h3>Instructions</h3>\n",
    "\n",
    "<p>After the HierarchicalClustering job above finishes running, send the CDT, GTR and ATR results of that job to HierarchicalClustering below. You will need to scroll back to the HierarchicalClustering job after sending the first file. Once this is done, click <em>Run</em> for the analysis below. <em>(note that the HierarchicalClustering job will take ~10-15 minutes to complete)</em></p>\n",
    "</div>"
   ]
  },
  {
   "cell_type": "code",
   "execution_count": 4,
   "metadata": {
    "collapsed": false
   },
   "outputs": [
    {
     "name": "stderr",
     "output_type": "stream",
     "text": [
      "Widget Javascript not detected.  It may not be installed properly. Did you enable the widgetsnbextension? If not, then run \"jupyter nbextension enable --py --sys-prefix widgetsnbextension\"\n"
     ]
    }
   ],
   "source": [
    "# !AUTOEXEC\n",
    "\n",
    "hierarchicalclusteringviewer_task = gp.GPTask(gpserver, 'urn:lsid:broad.mit.edu:cancer.software.genepattern.module.visualizer:00031')\n",
    "hierarchicalclusteringviewer_job_spec = hierarchicalclusteringviewer_task.make_job_spec()\n",
    "hierarchicalclusteringviewer_job_spec.set_parameter(\"cdt.file\", \"\")\n",
    "hierarchicalclusteringviewer_job_spec.set_parameter(\"gtr.file\", \"\")\n",
    "hierarchicalclusteringviewer_job_spec.set_parameter(\"atr.file\", \"\")\n",
    "GPTaskWidget(hierarchicalclusteringviewer_task)"
   ]
  }
 ],
 "metadata": {
  "kernelspec": {
   "display_name": "Python 2",
   "language": "python",
   "name": "python2"
  },
  "language_info": {
   "codemirror_mode": {
    "name": "ipython",
    "version": 2
   },
   "file_extension": ".py",
   "mimetype": "text/x-python",
   "name": "python",
   "nbconvert_exporter": "python",
   "pygments_lexer": "ipython2",
   "version": "2.7.11"
  },
  "widgets": {
   "state": {
    "28a911eb53084515a77b64503cdc8100": {
     "views": []
    },
    "2b4a4dc829184c2ca088c8d91d96cf3f": {
     "views": []
    },
    "4b327a48a6a14a7db59897709d89286c": {
     "views": []
    },
    "4c0ed9487a49426bbcce44f9a9958a43": {
     "views": []
    },
    "5e6a0c0620104eafb11ebbd1a1eac2d4": {
     "views": []
    },
    "783d62f097eb4fec8a692cffa2cb590b": {
     "views": []
    },
    "d35d9fb4801d425eb1b8571aa81df8bc": {
     "views": []
    },
    "d3b33c8072594a9baaff26a5975e7c7f": {
     "views": []
    }
   },
   "version": "1.1.2"
  }
 },
 "nbformat": 4,
 "nbformat_minor": 0
}
