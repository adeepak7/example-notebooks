{
 "cells": [
  {
   "cell_type": "markdown",
   "metadata": {},
   "source": [
    "# NMF Clustering in GenePattern Notebook\n",
    "\n",
    "Non-negative matrix factorization (NMF) finds a small number of metagenes, each defined as a positive linear combination of the genes in the expression data. It then groups samples into clusters based on the gene expression pattern of these metagenes.\n",
    "\n",
    "## Before you begin\n",
    "\n",
    "* Sign in to GenePattern by entering your username and password into the form below. If you are seeing a block of code instead of the login form, go to the menu above and select Cell > Run All.\n",
    "* Gene expression data must be in a [GCT or RES file](https://genepattern.broadinstitute.org/gp/pages/protocols/GctResFiles.html).\n",
    "    * Example file: [all_aml_test.gct](https://datasets.genepattern.org/data/all_aml/all_aml_test.gct).\n",
    "* The gene expression data must contain only positive values. If your data contains negative values, see the [NMFConsensus documentation](http://genepatternbeta.broadinstitute.org/gp/getTaskDoc.jsp?name=NMFConsensus) for instructions.\n",
    "* Learn more by reading about [file formats](http://www.broadinstitute.org/cancer/software/genepattern/file-formats-guide#GCT).\n"
   ]
  },
  {
   "cell_type": "code",
   "execution_count": 4,
   "metadata": {
    "genepattern": {
     "server": "https://genepattern.broadinstitute.org/gp",
     "type": "auth"
    }
   },
   "outputs": [
    {
     "data": {
      "application/vnd.jupyter.widget-view+json": {
       "model_id": "07dcbeeeee5f4179aeaa634ddc624e88"
      }
     },
     "metadata": {},
     "output_type": "display_data"
    }
   ],
   "source": [
    "# Requires GenePattern Notebook: pip install genepattern-notebook\n",
    "import gp\n",
    "import genepattern\n",
    "\n",
    "# Username and password removed for security reasons.\n",
    "genepattern.GPAuthWidget(genepattern.register_session(\"https://genepattern.broadinstitute.org/gp\", \"\", \"\"))"
   ]
  },
  {
   "cell_type": "markdown",
   "metadata": {},
   "source": [
    "## Step 1: PreprocessDataset\n",
    "\n",
    "Preprocess gene expression data to remove platform noise and genes that have little variation. Although researchers generally preprocess data before clustering if doing so removes relevant biological information, skip this step. \n",
    "\n",
    "### Considerations\n",
    "\n",
    "* PreprocessDataset can preprocess the data in one or more ways (in this order):\n",
    "    1. Set threshold and ceiling values. Any value lower/higher than the threshold/ceiling value is reset to the threshold/ceiling value.\n",
    "    2. Convert each expression value to the log base 2 of the value.\n",
    "    3. Remove genes (rows) if a given number of its sample values are less than a given threshold.\n",
    "    4. Remove genes (rows) that do not have a minimum fold change or expression variation.\n",
    "    5. Discretize or normalize the data.\n",
    "* When using ratios to compare gene expression between samples, convert values to log base 2 of the value to bring up- and down-regulated genes to the same scale. For example, ratios of 2 and .5 indicating two-fold changes for up- and down-regulated expression, respectively, are converted to +1 and -1. \n",
    "* If you did not generate the expression data, check whether preprocessing steps have already been taken before running the PreprocessDataset module. \n",
    "* Learn more by reading about the [PreprocessDataset](https://genepattern.broadinstitute.org/gp/getTaskDoc.jsp?name=PreprocessDataset) module."
   ]
  },
  {
   "cell_type": "code",
   "execution_count": 6,
   "metadata": {
    "genepattern": {
     "type": "task"
    }
   },
   "outputs": [
    {
     "data": {
      "application/vnd.jupyter.widget-view+json": {
       "model_id": "747ff67c93d748a288b681a7842d0d9a"
      }
     },
     "metadata": {},
     "output_type": "display_data"
    }
   ],
   "source": [
    "preprocessdataset_task = gp.GPTask(genepattern.get_session(0), 'urn:lsid:broad.mit.edu:cancer.software.genepattern.module.analysis:00020')\n",
    "preprocessdataset_job_spec = preprocessdataset_task.make_job_spec()\n",
    "preprocessdataset_job_spec.set_parameter(\"input.filename\", \"https://datasets.genepattern.org/data/all_aml/all_aml_test.gct\")\n",
    "preprocessdataset_job_spec.set_parameter(\"threshold.and.filter\", \"1\")\n",
    "preprocessdataset_job_spec.set_parameter(\"floor\", \"20\")\n",
    "preprocessdataset_job_spec.set_parameter(\"ceiling\", \"20000\")\n",
    "preprocessdataset_job_spec.set_parameter(\"min.fold.change\", \"3\")\n",
    "preprocessdataset_job_spec.set_parameter(\"min.delta\", \"100\")\n",
    "preprocessdataset_job_spec.set_parameter(\"num.outliers.to.exclude\", \"0\")\n",
    "preprocessdataset_job_spec.set_parameter(\"row.normalization\", \"0\")\n",
    "preprocessdataset_job_spec.set_parameter(\"row.sampling.rate\", \"1\")\n",
    "preprocessdataset_job_spec.set_parameter(\"threshold.for.removing.rows\", \"\")\n",
    "preprocessdataset_job_spec.set_parameter(\"number.of.columns.above.threshold\", \"\")\n",
    "preprocessdataset_job_spec.set_parameter(\"log2.transform\", \"0\")\n",
    "preprocessdataset_job_spec.set_parameter(\"output.file.format\", \"3\")\n",
    "preprocessdataset_job_spec.set_parameter(\"output.file\", \"<input.filename_basename>.preprocessed\")\n",
    "genepattern.GPTaskWidget(preprocessdataset_task)"
   ]
  },
  {
   "cell_type": "markdown",
   "metadata": {},
   "source": [
    "## Step 2: NMFConsensus\n",
    "\n",
    "NMFConsensus uses the basic principle of dimensionality reduction via non-negative matrix factorization (NMF) to find a small number of metagenes, each defined as a positive linear combination of the genes in the expression data. It then groups samples into clusters based on the gene expression pattern of the samples as positive linear combinations of these metagenes. NMFConsensus repeatedly runs the clustering algorithm against perturbations of the gene expression data and creates a consensus matrix to assesses the stability of the resulting clusters.\n",
    "\n",
    "**3-4 hours:** Running this example on the GenePattern public server takes several hours. The results are provided here for your convenience: [NMFConsensus_Results.zip](https://datasets.genepattern.org/data/all_aml/NMFConsensus_Results.zip). \n",
    "\n",
    "### Considerations\n",
    "\n",
    "* Non-negative matrix factorization (NMF) requires positive gene expression values. To run NMF on data that contains negative values (Kim & Tidor, 2003): \n",
    "    1. Create one dataset with all negative numbers zeroed.\n",
    "    2. Create another dataset with all positive numbers zeroed and the signs of all negative numbers removed. \n",
    "    3. Merge the two (eg. by concatenation), resulting in a dataset twice as large as the original, but with positive values only and zeros, hence appropriate for NMF. \n",
    "* To do this in MATLAB, execute the following statement:\n",
    "        anew=[max(a,0);-min(a,0)];\n",
    "        where a is the original data.\n",
    "* NMFConsensus groups samples into k classes based on k metagenes. Use the k initial and k final parameters to specify the desired number of classes (by default, 2-5). NMFConsensus builds a separate consensus matrix for each set of classes.\n",
    "* This module executes an R version of NMFConsensus, which is slow and is intended for exploratory use. A faster MATLAB version of NMFConsensus is available on the [Broad Institute web site](http://www.broadinstitute.org/cgi-bin/cancer/publications/pub_paper.cgi?mode=view&paper_id=89). \n",
    "* Learn more by reading about the [NMFConsensus](https://genepattern.broadinstitute.org/gp/getTaskDoc.jsp?name=NMFConsensus) module."
   ]
  },
  {
   "cell_type": "code",
   "execution_count": 5,
   "metadata": {
    "genepattern": {
     "type": "task"
    }
   },
   "outputs": [
    {
     "data": {
      "application/vnd.jupyter.widget-view+json": {
       "model_id": "756540fd6a964dc6bc63ea35c569f26a"
      }
     },
     "metadata": {},
     "output_type": "display_data"
    }
   ],
   "source": [
    "nmfconsensus_task = gp.GPTask(genepattern.get_session(0), 'urn:lsid:broad.mit.edu:cancer.software.genepattern.module.analysis:00057')\n",
    "nmfconsensus_job_spec = nmfconsensus_task.make_job_spec()\n",
    "nmfconsensus_job_spec.set_parameter(\"dataset.filename\", \"https://datasets.genepattern.org/data/all_aml/all_aml_test.preprocessed.gct\")\n",
    "nmfconsensus_job_spec.set_parameter(\"k.initial\", \"2\")\n",
    "nmfconsensus_job_spec.set_parameter(\"k.final\", \"5\")\n",
    "nmfconsensus_job_spec.set_parameter(\"num.clusterings\", \"20\")\n",
    "nmfconsensus_job_spec.set_parameter(\"max.num.iterations\", \"2000\")\n",
    "nmfconsensus_job_spec.set_parameter(\"error.function\", \"divergence\")\n",
    "nmfconsensus_job_spec.set_parameter(\"random.seed\", \"123456789\")\n",
    "nmfconsensus_job_spec.set_parameter(\"output.file.prefix\", \"<dataset.filename_basename>\")\n",
    "nmfconsensus_job_spec.set_parameter(\"stop.convergence\", \"40\")\n",
    "nmfconsensus_job_spec.set_parameter(\"stop.frequency\", \"10\")\n",
    "genepattern.GPTaskWidget(nmfconsensus_task)"
   ]
  },
  {
   "cell_type": "markdown",
   "metadata": {},
   "source": [
    "## Step 3: View Results\n",
    "\n",
    "Plots of the results are written to .pdf files. Cluster membership results are written to GCT files. View the result files by clicking on them. \n",
    "\n",
    "* For an overview of the results, click *.consensus.all.k.plot.pdf. A consensus matrix where all values are dark blue (0) or dark red (1) corresponds to perfect consensus. For example: [all_aml_test.preprocessed.consensus.all.k.plot.pdf](https://datasets.genepattern.org/data/all_aml/all_aml_test.preprocessed.consensus.all.k.plot.pdf). \n",
    "* For a complete listing of cluster membership, click *.membership.gct.\n",
    "\n",
    "### Considerations\n",
    "\n",
    "* For more about the plots and their interpretation, see Brunet et al., 2004.\n",
    "* Learn more by reading about the [NMFConsensus](https://genepattern.broadinstitute.org/gp/getTaskDoc.jsp?name=NMFConsensus) module."
   ]
  },
  {
   "cell_type": "code",
   "execution_count": null,
   "metadata": {
    "collapsed": true
   },
   "outputs": [],
   "source": []
  }
 ],
 "metadata": {
  "anaconda-cloud": {},
  "kernelspec": {
   "display_name": "Python 3.6",
   "language": "python",
   "name": "python3.6"
  },
  "language_info": {
   "codemirror_mode": {
    "name": "ipython",
    "version": 3
   },
   "file_extension": ".py",
   "mimetype": "text/x-python",
   "name": "python",
   "nbconvert_exporter": "python",
   "pygments_lexer": "ipython3",
   "version": "3.6.1"
  },
  "widgets": {
   "state": {
    "058f9972b6c643fab3205b981c13fef4": {
     "views": [
      {
       "cell_index": 3
      }
     ]
    },
    "793ee0e3e70f4bafaad8a094fd40e48d": {
     "views": [
      {
       "cell_index": 5
      }
     ]
    },
    "f74b26abbc55404786c4405de497c6df": {
     "views": [
      {
       "cell_index": 1
      }
     ]
    }
   },
   "version": "1.2.0"
  }
 },
 "nbformat": 4,
 "nbformat_minor": 1
}
