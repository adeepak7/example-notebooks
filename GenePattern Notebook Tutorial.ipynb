{
 "cells": [
  {
   "cell_type": "markdown",
   "metadata": {},
   "source": [
    "# GenePattern Notebook Tutorial\n",
    "\n",
    "If you are new to the GenePattern Notebook environment, this tutorial will familiarize you with some of its most important features. \n"
   ]
  },
  {
   "cell_type": "markdown",
   "metadata": {},
   "source": [
    "<div class=\"alert alert-info\">\n",
    "<b>All instructions for you to follow will appear in a blue panel like this one.</b>\n",
    "</div>"
   ]
  },
  {
   "cell_type": "markdown",
   "metadata": {},
   "source": [
    "<b>Below is an example GenePattern authentication cell.</b>"
   ]
  },
  {
   "cell_type": "markdown",
   "metadata": {},
   "source": [
    "<div class=\"alert alert-info\">\n",
    "<b>In this notebook, this login cell is shown to familiarize you with the login prompt. You do not need to fill it out.<b>\n",
    "</div>"
   ]
  },
  {
   "cell_type": "code",
   "execution_count": 1,
   "metadata": {
    "genepattern": {
     "server": "https://genepattern.broadinstitute.org/gp",
     "type": "auth"
    }
   },
   "outputs": [
    {
     "name": "stderr",
     "output_type": "stream",
     "text": [
      "Widget Javascript not detected.  It may not be installed or enabled properly.\n"
     ]
    },
    {
     "data": {
      "application/vnd.jupyter.widget-view+json": {
       "model_id": "3314089bd6734b03bf1eb814d25f8213"
      }
     },
     "metadata": {},
     "output_type": "display_data"
    }
   ],
   "source": [
    "# Requires GenePattern Notebook: pip install genepattern-notebook\n",
    "import gp\n",
    "import genepattern\n",
    "\n",
    "# Username and password removed for security reasons.\n",
    "genepattern.GPAuthWidget(genepattern.register_session(\"https://genepattern.broadinstitute.org/gp\", \"\", \"\"))"
   ]
  },
  {
   "cell_type": "markdown",
   "metadata": {},
   "source": [
    "## GenePattern Notebook introductory video"
   ]
  },
  {
   "cell_type": "markdown",
   "metadata": {},
   "source": [
    "<div class=\"alert alert-info\"><strong><p>To view the video, click the Play button in the middle of the video cell.</p><p>If the video is not visible, highlight the cell below and press the Run Cell ( <i class=\"fa-step-forward fa\"></i> ) button to see the video.</strong></p></div>\n"
   ]
  },
  {
   "cell_type": "code",
   "execution_count": 2,
   "metadata": {},
   "outputs": [
    {
     "data": {
      "text/html": [
       "<iframe width=\"854\" height=\"480\" src=\"https://www.youtube.com/embed/r5Km4UPhb1Q\" frameborder=\"0\" allowfullscreen></iframe>"
      ],
      "text/plain": [
       "<IPython.core.display.HTML object>"
      ]
     },
     "metadata": {},
     "output_type": "display_data"
    }
   ],
   "source": [
    "%%HTML\n",
    "<iframe width=\"854\" height=\"480\" src=\"https://www.youtube.com/embed/r5Km4UPhb1Q\" frameborder=\"0\" allowfullscreen></iframe>"
   ]
  },
  {
   "cell_type": "markdown",
   "metadata": {},
   "source": [
    "# Notebook Cells\n",
    "\n",
    "All notebooks consist of some number of cells. These cells may interleave text, images, tables, code or interactive widgets. Try clicking different sections of this notebook and will you notice the different cells as they are selected."
   ]
  },
  {
   "cell_type": "markdown",
   "metadata": {},
   "source": [
    "### Inserting cells\n",
    "\n",
    "New cells can be inserted by clicking the Insert Cell button ( <i class=\"fa-plus fa\"></i> ) on the toolbar or by using the Insert menu at the top of the screen."
   ]
  },
  {
   "cell_type": "markdown",
   "metadata": {},
   "source": [
    "<div class=\"alert alert-info\">\n",
    "<b>1. Select this cell by clicking to the left of the text.<br>\n",
    "2. Click the Insert Cell button ( <i class=\"fa-plus fa\"></i> ) to add a new cell below this one.<b>\n",
    "</div>"
   ]
  },
  {
   "cell_type": "markdown",
   "metadata": {},
   "source": [
    "### Executing cells\n",
    "\n",
    "Cells can be executed by clicking the Run Cell button ( <i class=\"fa-step-forward fa\"></i> ) on the toolbar or using the menu at the top of the screen to select *Cell > Run Cells*. Depending on the type of cell, when a cell executes it will run any code contained in the cell or render any HTML/markdown as formatted text."
   ]
  },
  {
   "cell_type": "markdown",
   "metadata": {},
   "source": [
    "<div class=\"alert alert-info\">\n",
    "<b>1. Select this cell by clicking to the left of the text.<br>\n",
    "2. Create a new cell below this one and type or paste 3 * 7 into the input box. Then click the Run Cell button or type Shift+Enter to execute the cell.</b>\n",
    "</div>"
   ]
  },
  {
   "cell_type": "markdown",
   "metadata": {},
   "source": [
    "### Changing cell type\n",
    "\n",
    "Every cell has a type. Cell types include code cells, markdown cells and GenePattern cells. Code cells are intended to contain code that can be executed. Markdown cells contain either markdown or HTML that is rendered when the cell is executed. GenePattern cells contain interactive widgets that allow you to access GenePattern's many analyses.\n",
    "\n",
    "To change cell type, select a cell and then use the dropdown menu on the toolbar above. Alternatively, you can use the menu at the top of the page to select *Cell > Cell Type*."
   ]
  },
  {
   "cell_type": "markdown",
   "metadata": {},
   "source": [
    "# How to use GenePattern Notebook\n",
    "\n",
    "The following are step-by-step instructions on how to use GenePattern Notebook to run an analysis, obtain job results and then either send these results to a downstream step or work with the results programmatically."
   ]
  },
  {
   "cell_type": "markdown",
   "metadata": {},
   "source": [
    "<h2>1. Log into GenePattern</h2>\n",
    "\n",
    "<ul>\n",
    "\t<li>Select any cell.</li>\n",
    "\t<li>Change that cell&#39;s type to <em>GenePattern</em> using the menu found in the above toolbar.</li>\n",
    "\t<li>Once inserted, the cell will prompt you to select a GenePattern server, as well as to enter a username and password. The default server to select is the Broad-hosted GenePattern server, <em>Broad Institute</em> (<a href=\"https://genepattern.broadinstitute.org\" target=\"_blank\">https://genepattern.broadinstitute.org</a>).</li>\n",
    "\t<li>If are instead prompted with a message saying &quot;You have already authenticated with the GenePattern Public Server. Would you like to automatically sign in now?&quot; just click the <em>Login as...</em>&nbsp;button.</li>\n",
    "\t<li>Otherwise, once you have filled in these fields, click&nbsp;<em>Log into GenePattern</em>.</li>\n",
    "</ul>\n",
    "\n",
    "<p>If you do not have a GenePattern account, first select the server and then click <em>Register an Account</em>.</p>\n",
    "\n",
    "<p><img alt=\"\" src=\"http://genepattern.org/uploaded/content_screen_shot_2015-08-24_at_10_27_12.png\" style=\"border-style:solid; border-width:1px; height:221px; width:600px\" /></p>\n"
   ]
  },
  {
   "cell_type": "markdown",
   "metadata": {},
   "source": [
    "<h2>2. Begin an analysis</h2>\n",
    "\n",
    "<p>Once you are logged in, a GenePattern button will appear on the left side of the Notebook. This button is only visible when a GenePattern cell is selected. Clicking this button will open a menu, which allows you to select and run GenePattern analyses.</p>\n",
    "\n",
    "<p><img alt=\"\" src=\"http://genepattern.org/uploaded/content_screen_shot_2015-08-24_at_10_29_20.png\" style=\"border-style:solid; border-width:1px; height:113px; width:600px\" /></p>\n",
    "\n",
    "<p>You can search&nbsp;these analyses&nbsp;using the <em>Type to Filter</em> box found in the upper right corner of the menu. Once you have selected an analysis, click it to add it as a cell in the notebook.</p>\n",
    "\n",
    "<p><img alt=\"\" src=\"http://genepattern.org/uploaded/content_screen_shot_2015-08-24_at_10_30_39.png\" style=\"border-style:solid; border-width:1px; height:296px; width:600px\" /></p>\n",
    "\n",
    "<p>Every task has a number of parameters, which can be used to upload data and to select other options for the analysis. Once you fill in these parameters, click <em>Run</em> to submit them to the GenePattern server.</p>\n",
    "\n",
    "<p><img alt=\"\" src=\"http://genepattern.org/uploaded/content_screen_shot_2015-08-24_at_10_32_11.png\" style=\"border-style:solid; border-width:1px; height:324px; width:600px\" /></p>\n",
    "\n",
    "<p>Once the <em>Run</em> button has been clicked, all selected files will upload and then the cell will change to indicate the status of the job in GenePattern&#39;s queue. Jobs progress through the states of Pending, Running and then finally either to Completed or Error.</p>\n",
    "\n",
    "<p><img alt=\"\" src=\"http://genepattern.org/uploaded/content_screen_shot_2015-08-24_at_10_33_20.png\" style=\"border-style:solid; border-width:1px; height:97px; width:600px\" /></p>\n"
   ]
  },
  {
   "cell_type": "markdown",
   "metadata": {},
   "source": [
    "## 3. Working with results\n",
    "\n",
    "<p style=\"margin-left: 40px;\">When an analysis is completed, the cell will display the result files. Clicking on one of these files will show a menu of options, such as viewing the file, using the output programmatically in Python code or sending the file to a downstream analysis. If an analysis resulted in an error, it will present an error log. This file can be viewed to determine what went wrong.</p>\n",
    "\n",
    "<p style=\"margin-left: 40px;\">Result files can only be sent to GenePattern cells which are ready to accept input files.</p>\n",
    "\n",
    "<p style=\"margin-left: 40px;\"><img alt=\"\" src=\"http://genepattern.org/uploaded/content_screen_shot_2015-09-03_at_15_47_31.png\" style=\"width: 600px; height: 156px; border-width: 1px; border-style: solid;\" /></p>\n",
    "\n",
    "<p style=\"margin-left: 40px;\">The result file of one analysis can be easily used as input for a later analysis. Simply click the result file to open the menu, and select either an existing downstream task or a new task. Clicking one of these options will place the correct value for the result file into the downstream form. In the case of sending a file to a new task, a new cell will be created for the downstream analysis. Alternatively, result files can also be dragged-and-dropped into the correct form.</p>"
   ]
  },
  {
   "cell_type": "markdown",
   "metadata": {},
   "source": [
    "<h2>4. Programmatic access to results</h2>\n",
    "\n",
    "<p>Programmatic access to all GenePattern jobs and results is also automatically available using GenePattern&#39;s Python library. Any job executed in a notebook can afterward be referenced using <code><em>job</em></code> followed by the job number. For example, if a job is number 1182106 (such as in the screenshot below), the variable name would be <code><em>job1182106</em></code>. Entering this into a code cell will return a reference to a GPJob object.</p>\n",
    "\n",
    "<ul>\n",
    "\t<li>For more information on using the GenePattern Python library, see the <a href=\"GenePattern%20Python%20Tutorial.ipynb\" target=\"_blank\">GenePattern Python Tutorial</a>.</li>\n",
    "</ul>\n",
    "\n",
    "<p>Code examples of how to reference GenePattern jobs or GenePattern result files are available in the notebook by clicking a job result and selecting <em>Send to Code</em> in the menu.</p>\n",
    "\n",
    "<p><img alt=\"\" src=\"http://genepattern.org/uploaded/content_screen-shot-2015-10-15-at-13_50.jpg\" style=\"border-style:solid; border-width:1px; height:159px; width:600px\" /></p>\n"
   ]
  }
 ],
 "metadata": {
  "anaconda-cloud": {},
  "kernelspec": {
   "display_name": "Python 3.6",
   "language": "python",
   "name": "python3.6"
  },
  "language_info": {
   "codemirror_mode": {
    "name": "ipython",
    "version": 3
   },
   "file_extension": ".py",
   "mimetype": "text/x-python",
   "name": "python",
   "nbconvert_exporter": "python",
   "pygments_lexer": "ipython3",
   "version": "3.6.1"
  }
 },
 "nbformat": 4,
 "nbformat_minor": 1
}
